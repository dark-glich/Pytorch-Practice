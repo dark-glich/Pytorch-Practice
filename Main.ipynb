{
<<<<<<< HEAD
 "cells": [
  {
   "cell_type": "code",
   "execution_count": 5,
   "id": "353c52d2",
   "metadata": {},
   "outputs": [
    {
     "ename": "ModuleNotFoundError",
     "evalue": "No module named 'pytorch'",
     "output_type": "error",
     "traceback": [
      "\u001b[0;31m---------------------------------------------------------------------------\u001b[0m",
      "\u001b[0;31mModuleNotFoundError\u001b[0m                       Traceback (most recent call last)",
      "\u001b[0;32m/tmp/ipykernel_7446/3890166209.py\u001b[0m in \u001b[0;36m<module>\u001b[0;34m\u001b[0m\n\u001b[0;32m----> 1\u001b[0;31m \u001b[0;32mimport\u001b[0m \u001b[0mpytorch\u001b[0m\u001b[0;34m\u001b[0m\u001b[0;34m\u001b[0m\u001b[0m\n\u001b[0m",
      "\u001b[0;31mModuleNotFoundError\u001b[0m: No module named 'pytorch'"
     ]
    }
   ],
   "source": [
    "import pytorch"
   ]
  },
  {
   "cell_type": "code",
   "execution_count": null,
   "id": "abc901fb",
   "metadata": {},
   "outputs": [],
   "source": []
  },
  {
   "cell_type": "code",
   "execution_count": null,
   "id": "7d64ffa2",
   "metadata": {},
   "outputs": [],
   "source": []
  },
  {
   "cell_type": "code",
   "execution_count": null,
   "id": "1f37e191",
   "metadata": {},
   "outputs": [],
   "source": []
  }
 ],
 "metadata": {
  "kernelspec": {
   "display_name": "Python 3 (ipykernel)",
   "language": "python",
   "name": "python3"
=======
  "nbformat": 4,
  "nbformat_minor": 5,
  "metadata": {
    "kernelspec": {
      "display_name": "Python 3 (ipykernel)",
      "language": "python",
      "name": "python3"
    },
    "language_info": {
      "codemirror_mode": {
        "name": "ipython",
        "version": 3
      },
      "file_extension": ".py",
      "mimetype": "text/x-python",
      "name": "python",
      "nbconvert_exporter": "python",
      "pygments_lexer": "ipython3",
      "version": "3.7.3"
    },
    "colab": {
      "name": "Main.ipynb",
      "provenance": []
    }
>>>>>>> origin/master
  },
  "cells": [
    {
      "cell_type": "code",
      "metadata": {
        "id": "9a828e40"
      },
      "source": [
        "import torch \n",
        "import numpy as np"
      ],
      "id": "9a828e40",
      "execution_count": 4,
      "outputs": []
    },
    {
      "cell_type": "markdown",
      "metadata": {
        "id": "ke7S22UaDsHh"
      },
      "source": [
        "# Tensors\n",
        "Tensors in pytorch are very similar to numpy arrays except that tensors can run on GPUs.tensors are used to encode the inputs and outputs of a model, as well as the model’s parameters."
      ],
      "id": "ke7S22UaDsHh"
    },
    {
      "cell_type": "code",
      "metadata": {
        "id": "8ER3xNlPBbxx"
      },
      "source": [
        "# Initializing a Tensor\n",
        "# From Data\n",
        "data = [[1,3],[2,4]]\n",
        "tensor = torch.tensor(data)\n",
        "print(tensor)"
      ],
      "id": "8ER3xNlPBbxx",
      "execution_count": null,
      "outputs": []
    },
    {
      "cell_type": "code",
      "metadata": {
        "id": "qOQb6v0eEpcO"
      },
      "source": [
        "# From Numpy Array\n",
        "array = np.array([1,2,3])\n",
        "tensor = torch.tensor(array)\n",
        "print(tensor)"
      ],
      "id": "qOQb6v0eEpcO",
      "execution_count": null,
      "outputs": []
    },
    {
      "cell_type": "code",
      "metadata": {
        "id": "42cFDsCXFGUz"
      },
      "source": [
        "# From another Tensor\n",
        "tensor1 = torch.tensor([[1,2],[3,4]], dtype=torch.int8)\n",
        "tensor2 = torch.ones_like(tensor1) # retains the properties of tensor1\n",
        "print(tensor2)"
      ],
      "id": "42cFDsCXFGUz",
      "execution_count": null,
      "outputs": []
    },
    {
      "cell_type": "code",
      "metadata": {
        "id": "5JPUBGJAF4aP"
      },
      "source": [
        "# With random or constant values:\n",
        "ones_tensor = torch.ones((2,3)) # tensor with 1s\n",
        "random_tensor = torch.rand((2,2)) # tensor with random values\n",
        "print(ones_tensor)\n",
        "print(random_tensor)"
      ],
      "id": "5JPUBGJAF4aP",
      "execution_count": null,
      "outputs": []
    },
    {
      "cell_type": "markdown",
      "metadata": {
        "id": "5bwzd5_nGz7V"
      },
      "source": [
        "### Attributes of a Tensor\n",
        "Tensor attributes describe their shape, datatype, and the device on which they are stored."
      ],
      "id": "5bwzd5_nGz7V"
    },
    {
      "cell_type": "code",
      "metadata": {
        "id": "lwDsUiH2HBTG",
        "outputId": "5da29606-a663-4be1-dc27-0c575607bde2",
        "colab": {
          "base_uri": "https://localhost:8080/"
        }
      },
      "source": [
        "tensor = torch.tensor([[2,4],[1,3]])\n",
        "print(tensor.dtype) # Datatype of tensor\n",
        "print(tensor.shape) # Shape of the tensor\n",
        "print(tensor.device) # Location where tensor is stored"
      ],
      "id": "lwDsUiH2HBTG",
      "execution_count": 17,
      "outputs": [
        {
          "output_type": "stream",
          "text": [
            "torch.int64\n",
            "torch.Size([2, 2])\n",
            "cpu\n"
          ],
          "name": "stdout"
        }
      ]
    }
  ]
}