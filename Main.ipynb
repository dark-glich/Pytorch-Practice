{
  "nbformat": 4,
  "nbformat_minor": 5,
  "metadata": {
    "kernelspec": {
      "display_name": "Python 3 (ipykernel)",
      "language": "python",
      "name": "python3"
    },
    "language_info": {
      "codemirror_mode": {
        "name": "ipython",
        "version": 3
      },
      "file_extension": ".py",
      "mimetype": "text/x-python",
      "name": "python",
      "nbconvert_exporter": "python",
      "pygments_lexer": "ipython3",
      "version": "3.7.3"
    },
    "colab": {
      "name": "Main.ipynb",
      "provenance": []
    }
  },
  "cells": [
    {
      "cell_type": "code",
      "metadata": {
        "id": "9a828e40"
      },
      "source": [
        "import torch \n",
        "import numpy as np"
      ],
      "id": "9a828e40",
      "execution_count": 3,
      "outputs": []
    },
    {
      "cell_type": "markdown",
      "metadata": {
        "id": "ke7S22UaDsHh"
      },
      "source": [
        "# Tensors\n",
        "Tensors in pytorch are very similar to numpy arrays except that tensors can run on GPUs.tensors are used to encode the inputs and outputs of a model, as well as the model’s parameters."
      ],
      "id": "ke7S22UaDsHh"
    },
    {
      "cell_type": "code",
      "metadata": {
        "id": "8ER3xNlPBbxx"
      },
      "source": [
        "# Initializing a Tensor\n",
        "# From Data\n",
        "data = [[1,3],[2,4]]\n",
        "tensor = torch.tensor(data)\n",
        "print(tensor)"
      ],
      "id": "8ER3xNlPBbxx",
      "execution_count": null,
      "outputs": []
    },
    {
      "cell_type": "code",
      "metadata": {
        "id": "qOQb6v0eEpcO"
      },
      "source": [
        "# From Numpy Array\n",
        "array = np.array([1,2,3])\n",
        "tensor = torch.tensor(array)\n",
        "print(tensor)"
      ],
      "id": "qOQb6v0eEpcO",
      "execution_count": null,
      "outputs": []
    },
    {
      "cell_type": "code",
      "metadata": {
        "id": "42cFDsCXFGUz"
      },
      "source": [
        "# From another Tensor\n",
        "tensor1 = torch.tensor([[1,2],[3,4]], dtype=torch.int8)\n",
        "tensor2 = torch.ones_like(tensor1) # retains the properties of tensor1\n",
        "print(tensor2)"
      ],
      "id": "42cFDsCXFGUz",
      "execution_count": null,
      "outputs": []
    },
    {
      "cell_type": "code",
      "metadata": {
        "colab": {
          "base_uri": "https://localhost:8080/"
        },
        "id": "5JPUBGJAF4aP",
        "outputId": "5c1f237e-4cf4-4a56-c077-075d746fd588"
      },
      "source": [
        "# With random or constant values:\n",
        "ones_tensor = torch.ones((2,3)) # tensor with 1s\n",
        "random_tensor = torch.rand((2,2)) # tensor with random values\n",
        "print(ones_tensor)\n",
        "print(random_tensor)"
      ],
      "id": "5JPUBGJAF4aP",
      "execution_count": 21,
      "outputs": [
        {
          "output_type": "stream",
          "text": [
            "tensor([[1., 1., 1.],\n",
            "        [1., 1., 1.]])\n",
            "tensor([[0.0982, 0.1485],\n",
            "        [0.9564, 0.6124]])\n"
          ],
          "name": "stdout"
        }
      ]
    },
    {
      "cell_type": "markdown",
      "metadata": {
        "id": "5bwzd5_nGz7V"
      },
      "source": [
        "### Attributes of a Tensor\n",
        "Tensor attributes describe their shape, datatype, and the device on which they are stored."
      ],
      "id": "5bwzd5_nGz7V"
    },
    {
      "cell_type": "code",
      "metadata": {
        "id": "lwDsUiH2HBTG"
      },
      "source": [
        "tensor = torch.tensor([[2,4],[1,3]])\n",
        "print(tensor.dtype) # Datatype of tensor\n",
        "print(tensor.shape) # Shape of the tensor\n",
        "print(tensor.device) # Location where tensor is stored"
      ],
      "id": "lwDsUiH2HBTG",
      "execution_count": null,
      "outputs": []
    },
    {
      "cell_type": "markdown",
      "metadata": {
        "id": "HVBbZyFXLH6b"
      },
      "source": [
        "### Operations on Tensors"
      ],
      "id": "HVBbZyFXLH6b"
    },
    {
      "cell_type": "code",
      "metadata": {
        "id": "B0fcZymtLQ3Z"
      },
      "source": [
        "# Slicing & Indexing\n",
        "tensor = torch.tensor([[1,2,3],[4,5,6]])\n",
        "print(tensor[0]) # Gives the frist row\n",
        "print(tensor[:,0]) # Gives the first column\n",
        "print(tensor[:,-1]) # Gives the last column"
      ],
      "id": "B0fcZymtLQ3Z",
      "execution_count": null,
      "outputs": []
    },
    {
      "cell_type": "code",
      "metadata": {
        "id": "dCatdR2fMvBh"
      },
      "source": [
        "# concatenating Tensors\n",
        "tensor = torch.zeros((2,2))\n",
        "tensor2 = torch.cat([tensor, tensor], dim=0)\n",
        "print(tensor2)"
      ],
      "id": "dCatdR2fMvBh",
      "execution_count": null,
      "outputs": []
    },
    {
      "cell_type": "code",
      "metadata": {
        "id": "m4qs-y1PQWOe"
      },
      "source": [
        "# Adding a Constant value \n",
        "tensor = torch.zeros((2,2))\n",
        "print(tensor, \"\\n\")\n",
        "tensor.add_(5) # It adds 5 to all values of the tensor\n",
        "print(tensor)"
      ],
      "id": "m4qs-y1PQWOe",
      "execution_count": null,
      "outputs": []
    },
    {
      "cell_type": "markdown",
      "metadata": {
        "id": "_19K5hB-Qx_f"
      },
      "source": [
        "## Tensors with Numpy Array\n",
        "Tensors on the CPU and NumPy arrays can share their underlying memory locations, and changing one will change the other."
      ],
      "id": "_19K5hB-Qx_f"
    },
    {
      "cell_type": "code",
      "metadata": {
        "id": "NnzqHnvnQ6Mb"
      },
      "source": [
        "# Tensor to NumPy array\n",
        "tensor = torch.zeros((5))\n",
        "print(tensor)\n",
        "array = tensor.numpy() # array share the space in memory as tensor\n",
        "print(array)"
      ],
      "id": "NnzqHnvnQ6Mb",
      "execution_count": null,
      "outputs": []
    },
    {
      "cell_type": "code",
      "metadata": {
        "id": "P3mVgsbnRTNt"
      },
      "source": [
        "tensor.add_(3)\n",
        "print(tensor)\n",
        "print(array) # A change in the tensor reflects in the NumPy array."
      ],
      "id": "P3mVgsbnRTNt",
      "execution_count": null,
      "outputs": []
    },
    {
      "cell_type": "code",
      "metadata": {
        "id": "ghgq1lEFR5NG"
      },
      "source": [
        "# NumPy array to Tensor\n",
        "array = np.ones(5)\n",
        "print(array)\n",
        "tensor = torch.from_numpy(array)  # tensor share the space in memory as array\n",
        "print(tensor)"
      ],
      "id": "ghgq1lEFR5NG",
      "execution_count": null,
      "outputs": []
    },
    {
      "cell_type": "code",
      "metadata": {
        "id": "f5whbINOSOje"
      },
      "source": [
        "np.add(array, 1, out=array)\n",
        "print(array) \n",
        "print(tensor) # A change in the array reflects in the Tensor."
      ],
      "id": "f5whbINOSOje",
      "execution_count": null,
      "outputs": []
    }
  ]
}